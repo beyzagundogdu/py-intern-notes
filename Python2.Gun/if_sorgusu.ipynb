{
 "cells": [
  {
   "cell_type": "code",
   "execution_count": 13,
   "id": "a36a6a44-2f38-4f7e-b7a2-6c4db5cfbca4",
   "metadata": {},
   "outputs": [
    {
     "name": "stdout",
     "output_type": "stream",
     "text": [
      "şemsiyeni al!\n"
     ]
    }
   ],
   "source": [
    "hava_durumu=\"yağmurlu\"\n",
    "if hava_durumu== 'yağmurlu':\n",
    "    print(\"şemsiyeni al!\")\n",
    "elif hava_durumu=='karlı':\n",
    "    print(\"atkını al\")\n",
    "else:\n",
    "    print(\"sorun yok\")"
   ]
  },
  {
   "cell_type": "code",
   "execution_count": 17,
   "id": "69ef5495-359d-44fe-918a-96c8db4a8c78",
   "metadata": {},
   "outputs": [
    {
     "name": "stdout",
     "output_type": "stream",
     "text": [
      "selam\n"
     ]
    }
   ],
   "source": [
    "yas= 24\n",
    "if yas>18:\n",
    "    print(\"selam\")\n",
    "else: \n",
    "    print(\"buraya giremezsin\")"
   ]
  },
  {
   "cell_type": "code",
   "execution_count": 19,
   "id": "23a4a476-f322-4472-bddd-e8c7f9809c7f",
   "metadata": {},
   "outputs": [
    {
     "name": "stdout",
     "output_type": "stream",
     "text": [
      "liste\n",
      "Güncel Liste['a', 'b', 'c', 'd']\n"
     ]
    }
   ],
   "source": [
    "liste=['a','b','c']\n",
    "hedef_harf='d'\n",
    "if hedef_harf in liste:\n",
    "    print('buldum')\n",
    "else:\n",
    "    liste.append(hedef_harf)\n",
    "    print('liste')\n",
    "    print('Güncel Liste{}'.format(liste))\n"
   ]
  },
  {
   "cell_type": "code",
   "execution_count": 23,
   "id": "8e25abb6-eeb0-43b0-95e7-f78e62bbcae6",
   "metadata": {},
   "outputs": [
    {
     "name": "stdout",
     "output_type": "stream",
     "text": [
      "buldum ama ilk konumda değil\n"
     ]
    }
   ],
   "source": [
    "if (hedef_harf in liste) and (hedef_harf==liste[0]):\n",
    "    print('buldum ve ilk konumda')\n",
    "elif hedef_harf in liste:\n",
    "    print('buldum ama ilk konumda değil')\n",
    "else:\n",
    "    liste.append(hedef_harf)\n",
    "    print('liste')\n",
    "    print('Güncel Liste{}'.format(liste))\n"
   ]
  },
  {
   "cell_type": "code",
   "execution_count": null,
   "id": "55b703e8-88c4-4d8a-8ca8-51753196feab",
   "metadata": {},
   "outputs": [],
   "source": []
  }
 ],
 "metadata": {
  "kernelspec": {
   "display_name": "Python [conda env:base] *",
   "language": "python",
   "name": "conda-base-py"
  },
  "language_info": {
   "codemirror_mode": {
    "name": "ipython",
    "version": 3
   },
   "file_extension": ".py",
   "mimetype": "text/x-python",
   "name": "python",
   "nbconvert_exporter": "python",
   "pygments_lexer": "ipython3",
   "version": "3.12.7"
  }
 },
 "nbformat": 4,
 "nbformat_minor": 5
}
