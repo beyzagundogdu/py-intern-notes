{
 "cells": [
  {
   "cell_type": "code",
   "execution_count": 17,
   "id": "7fcb337c-f256-4c82-b69a-f13eb959846c",
   "metadata": {},
   "outputs": [
    {
     "name": "stdout",
     "output_type": "stream",
     "text": [
      "berna sahin\n",
      "ozge can\n",
      "furkan karaca\n",
      "eren kalkan\n",
      "demo demirbas\n"
     ]
    }
   ],
   "source": [
    "arkadaslar=[\"berna sahin\", \"ozge can\",\"furkan karaca\", \"eren kalkan\",\"demo demirbas\"]\n",
    "for sinif in arkadaslar:\n",
    "    print(sinif)"
   ]
  },
  {
   "cell_type": "code",
   "execution_count": 19,
   "id": "67aa39c5-2719-4afb-a4c3-ab70717861d9",
   "metadata": {},
   "outputs": [
    {
     "name": "stdout",
     "output_type": "stream",
     "text": [
      "1 berna sahin\n",
      "2 ozge can\n",
      "3 furkan karaca\n",
      "4 eren kalkan\n",
      "5 demo demirbas\n"
     ]
    }
   ],
   "source": [
    "kisi_sayisi=0\n",
    "for sinif in arkadaslar:\n",
    "    kisi_sayisi=kisi_sayisi+1\n",
    "    print(kisi_sayisi,sinif)"
   ]
  },
  {
   "cell_type": "code",
   "execution_count": 23,
   "id": "e7dd375d-d511-4214-b0fc-ed4cb86fe394",
   "metadata": {},
   "outputs": [
    {
     "name": "stdout",
     "output_type": "stream",
     "text": [
      "1. arkadaşımın adı berna, soyadı sahin.\n",
      "2. arkadaşımın adı ozge, soyadı can.\n",
      "3. arkadaşımın adı furkan, soyadı karaca.\n",
      "4. arkadaşımın adı eren, soyadı kalkan.\n",
      "5. arkadaşımın adı demo, soyadı demirbas.\n"
     ]
    }
   ],
   "source": [
    "kisi_sayisi=0\n",
    "for sinif in arkadaslar:\n",
    "    kisi_sayisi=kisi_sayisi+1\n",
    "    ad,soyad= sinif.split()[0], sinif.split()[1]\n",
    "    print('{0}. arkadaşımın adı {1}, soyadı {2}.'.format(kisi_sayisi,ad,soyad))\n",
    "    "
   ]
  },
  {
   "cell_type": "code",
   "execution_count": 25,
   "id": "0cd999d9-0634-4f84-947c-f7266757c6ec",
   "metadata": {},
   "outputs": [
    {
     "name": "stdout",
     "output_type": "stream",
     "text": [
      "1\n",
      "3\n",
      "5\n",
      "a\n"
     ]
    }
   ],
   "source": [
    "liste=[[1,2],[3,4],[5,6],['a','b']]\n",
    "for x,y in liste:\n",
    "    print(x)"
   ]
  },
  {
   "cell_type": "code",
   "execution_count": 37,
   "id": "9ae9b6c2-c82c-419f-889c-b533ccead798",
   "metadata": {},
   "outputs": [
    {
     "data": {
      "text/plain": [
       "dict_items([('ad', 'Berna'), ('soyad', 'Sahin')])"
      ]
     },
     "execution_count": 37,
     "metadata": {},
     "output_type": "execute_result"
    }
   ],
   "source": [
    "arkadas1={\n",
    "    'ad': 'Berna',\n",
    "    'soyad':'Sahin'\n",
    "}\n",
    "arkadas1.items()"
   ]
  },
  {
   "cell_type": "code",
   "execution_count": 41,
   "id": "686b8bcd-16ae-4f55-92d2-b4883fbee250",
   "metadata": {},
   "outputs": [
    {
     "name": "stdout",
     "output_type": "stream",
     "text": [
      "key: ad \t      value:Berna\n",
      "key: soyad \t      value:Sahin\n"
     ]
    }
   ],
   "source": [
    "for k,v in arkadas1.items():\n",
    "    print('key: {} \\t      value:{}'.format(k,v))"
   ]
  },
  {
   "cell_type": "code",
   "execution_count": null,
   "id": "bb81f856-5b99-4887-b718-19499e0bcfc2",
   "metadata": {},
   "outputs": [],
   "source": []
  }
 ],
 "metadata": {
  "kernelspec": {
   "display_name": "Python [conda env:base] *",
   "language": "python",
   "name": "conda-base-py"
  },
  "language_info": {
   "codemirror_mode": {
    "name": "ipython",
    "version": 3
   },
   "file_extension": ".py",
   "mimetype": "text/x-python",
   "name": "python",
   "nbconvert_exporter": "python",
   "pygments_lexer": "ipython3",
   "version": "3.12.7"
  }
 },
 "nbformat": 4,
 "nbformat_minor": 5
}
