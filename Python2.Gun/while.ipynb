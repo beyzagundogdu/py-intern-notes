{
 "cells": [
  {
   "cell_type": "code",
   "execution_count": null,
   "id": "bccaceb0-5dbf-40a2-bffe-c0323bd61c0c",
   "metadata": {},
   "outputs": [],
   "source": [
    "x=0\n",
    "while x<10:\n",
    "    print(\"{} değeri 10'dan küçüktür\".format(x))\n",
    "    x += 1\n",
    "else:\n",
    "     print(\"{} değeri 10'dan küçük değildir\".format(x))"
   ]
  },
  {
   "cell_type": "code",
   "execution_count": null,
   "id": "2fdc7fa0-e671-4769-a667-4fe3622b801c",
   "metadata": {},
   "outputs": [],
   "source": [
    "sayi=6\n",
    "sonuc=1\n",
    "while sayi>0:\n",
    "    sonuc= sonuc*sayi\n",
    "    sayi-=1\n",
    "print(sonuc)"
   ]
  },
  {
   "cell_type": "code",
   "execution_count": null,
   "id": "b9f52bca-38c6-4724-8d21-aa44c1ecc58b",
   "metadata": {},
   "outputs": [],
   "source": []
  },
  {
   "cell_type": "code",
   "execution_count": null,
   "id": "3980e955-c1e0-4488-9b8c-0d28f6bd6865",
   "metadata": {},
   "outputs": [],
   "source": []
  }
 ],
 "metadata": {
  "kernelspec": {
   "display_name": "Python [conda env:base] *",
   "language": "python",
   "name": "conda-base-py"
  },
  "language_info": {
   "codemirror_mode": {
    "name": "ipython",
    "version": 3
   },
   "file_extension": ".py",
   "mimetype": "text/x-python",
   "name": "python",
   "nbconvert_exporter": "python",
   "pygments_lexer": "ipython3",
   "version": "3.12.7"
  }
 },
 "nbformat": 4,
 "nbformat_minor": 5
}
