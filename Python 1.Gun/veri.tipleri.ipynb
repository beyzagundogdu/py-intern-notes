{
 "cells": [
  {
   "cell_type": "code",
   "execution_count": 1,
   "id": "f2697707-4eaa-4f35-bf68-937008eb3f80",
   "metadata": {},
   "outputs": [
    {
     "data": {
      "text/plain": [
       "False"
      ]
     },
     "execution_count": 1,
     "metadata": {},
     "output_type": "execute_result"
    }
   ],
   "source": [
    "yas1=20\n",
    "yas2=18\n",
    "yas2!=18"
   ]
  },
  {
   "cell_type": "code",
   "execution_count": 3,
   "id": "364af773-066f-493e-9fed-c623ed4d4970",
   "metadata": {},
   "outputs": [
    {
     "data": {
      "text/plain": [
       "True"
      ]
     },
     "execution_count": 3,
     "metadata": {},
     "output_type": "execute_result"
    }
   ],
   "source": [
    "not yas2>18"
   ]
  },
  {
   "cell_type": "code",
   "execution_count": 5,
   "id": "049c8924-b31f-4c65-b7f0-e673abccf502",
   "metadata": {},
   "outputs": [
    {
     "name": "stdout",
     "output_type": "stream",
     "text": [
      "['a', 'b', 'c', 'd']\n"
     ]
    }
   ],
   "source": [
    "liste=['a','b','c','d']\n",
    "print(liste)"
   ]
  },
  {
   "cell_type": "code",
   "execution_count": 13,
   "id": "f997ef1c-6429-42b1-adfb-99666c11489c",
   "metadata": {},
   "outputs": [
    {
     "name": "stdout",
     "output_type": "stream",
     "text": [
      "['a', 'b', 'c', 'd', 'e']\n"
     ]
    }
   ],
   "source": [
    "liste= liste+['e']\n",
    "print (liste)"
   ]
  },
  {
   "cell_type": "code",
   "execution_count": 15,
   "id": "4809d30d-b9b9-4673-aba3-b7aa810af0f6",
   "metadata": {},
   "outputs": [
    {
     "data": {
      "text/plain": [
       "['d', 'e']"
      ]
     },
     "execution_count": 15,
     "metadata": {},
     "output_type": "execute_result"
    }
   ],
   "source": [
    "liste[3:5]"
   ]
  },
  {
   "cell_type": "code",
   "execution_count": 19,
   "id": "2636b846-bd46-4fb7-80c5-2e5d8cd71860",
   "metadata": {},
   "outputs": [
    {
     "data": {
      "text/plain": [
       "['a', 'b', 'c', 'd', 'e', 'f', 'f']"
      ]
     },
     "execution_count": 19,
     "metadata": {},
     "output_type": "execute_result"
    }
   ],
   "source": [
    "liste.append('f')\n",
    "liste"
   ]
  },
  {
   "cell_type": "code",
   "execution_count": 21,
   "id": "7a685b75-dec6-41a0-8266-8502de15c760",
   "metadata": {},
   "outputs": [
    {
     "data": {
      "text/plain": [
       "'f'"
      ]
     },
     "execution_count": 21,
     "metadata": {},
     "output_type": "execute_result"
    }
   ],
   "source": [
    "liste.pop()"
   ]
  },
  {
   "cell_type": "code",
   "execution_count": 23,
   "id": "10bc1fed-c4a9-46a6-be22-3c1fc375de62",
   "metadata": {},
   "outputs": [
    {
     "data": {
      "text/plain": [
       "['a', 'b', 'c', 'd', 'e', 'f']"
      ]
     },
     "execution_count": 23,
     "metadata": {},
     "output_type": "execute_result"
    }
   ],
   "source": [
    "liste"
   ]
  },
  {
   "cell_type": "code",
   "execution_count": 25,
   "id": "6d82692d-32c6-4b74-8b11-f10105d9b9b4",
   "metadata": {},
   "outputs": [
    {
     "name": "stdout",
     "output_type": "stream",
     "text": [
      "['a', 'b', 'c', 'd', 'e']\n"
     ]
    }
   ],
   "source": [
    "liste.pop(5)\n",
    "print(liste)"
   ]
  },
  {
   "cell_type": "code",
   "execution_count": 43,
   "id": "aad19c2b-484f-4646-88e8-751169148a4a",
   "metadata": {},
   "outputs": [
    {
     "name": "stdout",
     "output_type": "stream",
     "text": [
      "[1, 6, 12, 54, 4556, 54785]\n"
     ]
    }
   ],
   "source": [
    "sayilar=[12,4556,1,54785,54,6]\n",
    "sayilar.sort()\n",
    "print(sayilar)"
   ]
  },
  {
   "cell_type": "code",
   "execution_count": 37,
   "id": "882e053e-8a07-442f-a9fd-d279b3b55732",
   "metadata": {},
   "outputs": [
    {
     "name": "stdout",
     "output_type": "stream",
     "text": [
      "[54785, 4556, 54, 12, 6, 1]\n"
     ]
    }
   ],
   "source": [
    "sayilar.reverse()\n",
    "print(sayilar)"
   ]
  },
  {
   "cell_type": "code",
   "execution_count": 46,
   "id": "74eca4f8-f863-4c4a-8186-7f98479c1e00",
   "metadata": {},
   "outputs": [
    {
     "data": {
      "text/plain": [
       "{1, 6, 12, 54, 4556, 54785}"
      ]
     },
     "execution_count": 46,
     "metadata": {},
     "output_type": "execute_result"
    }
   ],
   "source": [
    "sayilar1=[12,4556,1,54785,54,6,6]\n",
    "set(sayilar)"
   ]
  },
  {
   "cell_type": "code",
   "execution_count": 48,
   "id": "e5e426cf-d05a-4163-9d82-0f47fe62b42e",
   "metadata": {},
   "outputs": [
    {
     "name": "stdout",
     "output_type": "stream",
     "text": [
      "['a', 'b', 'c', 'd', 'e', 'a']\n",
      "('a', 'b', 'c', 'd', 'e', 'a')\n"
     ]
    }
   ],
   "source": [
    "liste=['a','b','c','d','e','a']\n",
    "print(liste)\n",
    "tup=('a','b','c','d','e','a')\n",
    "print(tup)"
   ]
  },
  {
   "cell_type": "code",
   "execution_count": 52,
   "id": "e67592cd-1420-46e3-b33e-8fc57405768f",
   "metadata": {},
   "outputs": [
    {
     "name": "stdout",
     "output_type": "stream",
     "text": [
      "[123456, 'b', 'c', 'd', 'e', 'a']\n"
     ]
    }
   ],
   "source": [
    "liste[0]=123456\n",
    "print(liste)"
   ]
  },
  {
   "cell_type": "code",
   "execution_count": 54,
   "id": "6f2390ca-d44f-46f5-95b4-fceeb9b46906",
   "metadata": {},
   "outputs": [
    {
     "data": {
      "text/plain": [
       "2"
      ]
     },
     "execution_count": 54,
     "metadata": {},
     "output_type": "execute_result"
    }
   ],
   "source": [
    "tup.count('a')"
   ]
  },
  {
   "cell_type": "code",
   "execution_count": 56,
   "id": "c3f42596-4db8-4afd-a025-7834a43bf10f",
   "metadata": {},
   "outputs": [
    {
     "data": {
      "text/plain": [
       "2"
      ]
     },
     "execution_count": 56,
     "metadata": {},
     "output_type": "execute_result"
    }
   ],
   "source": [
    "tup.index('c')"
   ]
  },
  {
   "cell_type": "code",
   "execution_count": 62,
   "id": "3fdd34e7-5dc3-4a1e-9f12-3152cfe378b1",
   "metadata": {},
   "outputs": [
    {
     "data": {
      "text/plain": [
       "{'isim': 'Beyza', 'yas': 24, 'lokasyon': 'Antalya'}"
      ]
     },
     "execution_count": 62,
     "metadata": {},
     "output_type": "execute_result"
    }
   ],
   "source": [
    "dict1= {\n",
    "    'isim': 'Beyza',\n",
    "    'yas': 24,\n",
    "    'lokasyon':'Antalya'\n",
    "}\n",
    "dict1"
   ]
  },
  {
   "cell_type": "code",
   "execution_count": 60,
   "id": "93e99deb-1d25-4fe0-9801-b838e6b91f0c",
   "metadata": {},
   "outputs": [
    {
     "data": {
      "text/plain": [
       "{'isim': 'Beyza',\n",
       " 'yas': 24,\n",
       " 'lokasyon': {'dogdugusehir': 'Mugla', 'yasadıgısehir': 'Antalya'}}"
      ]
     },
     "execution_count": 60,
     "metadata": {},
     "output_type": "execute_result"
    }
   ],
   "source": [
    "dict2= {\n",
    "    'isim': 'Beyza',\n",
    "    'yas': 24,\n",
    "    'lokasyon':{\n",
    "        'dogdugusehir': 'Mugla',\n",
    "        'yasadıgısehir':'Antalya'\n",
    "    }\n",
    "}\n",
    "dict2\n"
   ]
  },
  {
   "cell_type": "code",
   "execution_count": 78,
   "id": "ec4df647-842a-4b8e-a05b-8ab87975cc98",
   "metadata": {},
   "outputs": [
    {
     "data": {
      "text/plain": [
       "'Beyza'"
      ]
     },
     "execution_count": 78,
     "metadata": {},
     "output_type": "execute_result"
    }
   ],
   "source": [
    "dict2['isim']"
   ]
  },
  {
   "cell_type": "code",
   "execution_count": 84,
   "id": "cd1d7a8c-398a-44d1-9e50-d6dd38b8bad2",
   "metadata": {
    "scrolled": true
   },
   "outputs": [
    {
     "data": {
      "text/plain": [
       "24"
      ]
     },
     "execution_count": 84,
     "metadata": {},
     "output_type": "execute_result"
    }
   ],
   "source": [
    "dict2['yas']"
   ]
  },
  {
   "cell_type": "code",
   "execution_count": 86,
   "id": "058c406a-b0ef-4d95-8bdf-62dc51d2d3fc",
   "metadata": {},
   "outputs": [
    {
     "data": {
      "text/plain": [
       "24"
      ]
     },
     "execution_count": 86,
     "metadata": {},
     "output_type": "execute_result"
    }
   ],
   "source": [
    "dict2.get('yas')"
   ]
  },
  {
   "cell_type": "code",
   "execution_count": 82,
   "id": "ecd1a666-927b-4e50-8ab5-e2089689067d",
   "metadata": {},
   "outputs": [
    {
     "data": {
      "text/plain": [
       "'Mugla'"
      ]
     },
     "execution_count": 82,
     "metadata": {},
     "output_type": "execute_result"
    }
   ],
   "source": [
    "dict2['lokasyon']['dogdugusehir']"
   ]
  },
  {
   "cell_type": "code",
   "execution_count": 88,
   "id": "0b773fef-001c-4c16-acf0-db3d9b1d3b31",
   "metadata": {},
   "outputs": [
    {
     "data": {
      "text/plain": [
       "'Mugla'"
      ]
     },
     "execution_count": 88,
     "metadata": {},
     "output_type": "execute_result"
    }
   ],
   "source": [
    "dict2.get('lokasyon').get('dogdugusehir')"
   ]
  },
  {
   "cell_type": "code",
   "execution_count": 92,
   "id": "6f12495d-9ec4-4c35-9777-30b517dd166a",
   "metadata": {},
   "outputs": [
    {
     "data": {
      "text/plain": [
       "dict_keys(['isim', 'yas', 'lokasyon'])"
      ]
     },
     "execution_count": 92,
     "metadata": {},
     "output_type": "execute_result"
    }
   ],
   "source": [
    "dict2.keys()"
   ]
  },
  {
   "cell_type": "code",
   "execution_count": 94,
   "id": "e3b602d6-3a6c-445f-8b30-95ee5854d933",
   "metadata": {},
   "outputs": [
    {
     "data": {
      "text/plain": [
       "dict_values(['Beyza', 24, {'dogdugusehir': 'Mugla', 'yasadıgısehir': 'Antalya'}])"
      ]
     },
     "execution_count": 94,
     "metadata": {},
     "output_type": "execute_result"
    }
   ],
   "source": [
    "dict2.values()"
   ]
  },
  {
   "cell_type": "code",
   "execution_count": 96,
   "id": "5700277c-3d46-463f-bc5f-907c3d6790ce",
   "metadata": {},
   "outputs": [
    {
     "data": {
      "text/plain": [
       "dict_items([('isim', 'Beyza'), ('yas', 24), ('lokasyon', {'dogdugusehir': 'Mugla', 'yasadıgısehir': 'Antalya'})])"
      ]
     },
     "execution_count": 96,
     "metadata": {},
     "output_type": "execute_result"
    }
   ],
   "source": [
    "dict2.items()"
   ]
  },
  {
   "cell_type": "code",
   "execution_count": 99,
   "id": "0302d1da-e35a-459e-970b-b46e656ccb4a",
   "metadata": {},
   "outputs": [
    {
     "name": "stdout",
     "output_type": "stream",
     "text": [
      "Python\n"
     ]
    }
   ],
   "source": [
    "strvar=\"Python\"\n",
    "print(strvar)\n"
   ]
  },
  {
   "cell_type": "code",
   "execution_count": 101,
   "id": "e2105187-66f3-4a95-9ad8-68330c292331",
   "metadata": {},
   "outputs": [
    {
     "data": {
      "text/plain": [
       "'yo'"
      ]
     },
     "execution_count": 101,
     "metadata": {},
     "output_type": "execute_result"
    }
   ],
   "source": [
    "strvar[1:5:3]"
   ]
  },
  {
   "cell_type": "code",
   "execution_count": 103,
   "id": "0fba53b1-d687-45e9-a9e0-ea430f561575",
   "metadata": {},
   "outputs": [
    {
     "data": {
      "text/plain": [
       "'tho'"
      ]
     },
     "execution_count": 103,
     "metadata": {},
     "output_type": "execute_result"
    }
   ],
   "source": [
    "strvar [2:5]"
   ]
  },
  {
   "cell_type": "code",
   "execution_count": null,
   "id": "0b3dc2e4-fa25-4c98-b6b4-626529b551c2",
   "metadata": {},
   "outputs": [],
   "source": []
  }
 ],
 "metadata": {
  "kernelspec": {
   "display_name": "Python [conda env:base] *",
   "language": "python",
   "name": "conda-base-py"
  },
  "language_info": {
   "codemirror_mode": {
    "name": "ipython",
    "version": 3
   },
   "file_extension": ".py",
   "mimetype": "text/x-python",
   "name": "python",
   "nbconvert_exporter": "python",
   "pygments_lexer": "ipython3",
   "version": "3.12.7"
  }
 },
 "nbformat": 4,
 "nbformat_minor": 5
}
