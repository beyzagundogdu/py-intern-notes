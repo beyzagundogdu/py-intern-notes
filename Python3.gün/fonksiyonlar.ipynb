{
 "cells": [
  {
   "cell_type": "code",
   "execution_count": 2,
   "id": "d5f1627a-e3c0-4b73-af74-ee6c7973fc0e",
   "metadata": {},
   "outputs": [],
   "source": [
    "def bes_bastir():\n",
    "    print (5)"
   ]
  },
  {
   "cell_type": "code",
   "execution_count": 4,
   "id": "0eefdade-cdcc-4f0f-a8bf-728eeea31ab2",
   "metadata": {},
   "outputs": [
    {
     "name": "stdout",
     "output_type": "stream",
     "text": [
      "5\n"
     ]
    }
   ],
   "source": [
    "bes_bastir()"
   ]
  },
  {
   "cell_type": "code",
   "execution_count": 6,
   "id": "5c35ae2f-70ff-4ff3-bc9e-a117b7106d08",
   "metadata": {},
   "outputs": [],
   "source": [
    "def bes_dondur():\n",
    "    return 5"
   ]
  },
  {
   "cell_type": "code",
   "execution_count": 8,
   "id": "b86b2c96-22ff-422b-a75f-8c1ff4a9a289",
   "metadata": {},
   "outputs": [
    {
     "data": {
      "text/plain": [
       "5"
      ]
     },
     "execution_count": 8,
     "metadata": {},
     "output_type": "execute_result"
    }
   ],
   "source": [
    "bes_dondur()"
   ]
  },
  {
   "cell_type": "code",
   "execution_count": 14,
   "id": "f3a97bd3-cbcc-458c-97ca-db24a50ce7e1",
   "metadata": {},
   "outputs": [
    {
     "name": "stdout",
     "output_type": "stream",
     "text": [
      "5\n",
      "None\n"
     ]
    }
   ],
   "source": [
    "a= bes_bastir()\n",
    "print(a)"
   ]
  },
  {
   "cell_type": "code",
   "execution_count": 16,
   "id": "919f1d61-2dc5-4092-ac6c-44c509c52414",
   "metadata": {},
   "outputs": [
    {
     "name": "stdout",
     "output_type": "stream",
     "text": [
      "5\n"
     ]
    }
   ],
   "source": [
    "b = bes_dondur()\n",
    "print (b)"
   ]
  },
  {
   "cell_type": "code",
   "execution_count": 18,
   "id": "a6ee454e-2896-448e-8ffd-9252470c6639",
   "metadata": {},
   "outputs": [],
   "source": [
    "def sayi_dondur(sayi):\n",
    "    return sayi"
   ]
  },
  {
   "cell_type": "code",
   "execution_count": 20,
   "id": "b0717917-50d1-4b46-80da-220a8149ae0b",
   "metadata": {},
   "outputs": [
    {
     "data": {
      "text/plain": [
       "100"
      ]
     },
     "execution_count": 20,
     "metadata": {},
     "output_type": "execute_result"
    }
   ],
   "source": [
    "sayi_dondur(100)"
   ]
  },
  {
   "cell_type": "code",
   "execution_count": 22,
   "id": "93bf6603-9ed1-4faf-af53-686bfddefb3a",
   "metadata": {},
   "outputs": [],
   "source": [
    "def sayi_dondur(sayi=250):\n",
    "    return (sayi)"
   ]
  },
  {
   "cell_type": "code",
   "execution_count": 26,
   "id": "71ebebf2-d40b-4d3f-8a0f-e906f6cc7d52",
   "metadata": {},
   "outputs": [
    {
     "data": {
      "text/plain": [
       "250"
      ]
     },
     "execution_count": 26,
     "metadata": {},
     "output_type": "execute_result"
    }
   ],
   "source": [
    "sayi_dondur()"
   ]
  },
  {
   "cell_type": "code",
   "execution_count": 28,
   "id": "fec64209-2102-4921-9aeb-02fd9e5ccb9d",
   "metadata": {},
   "outputs": [],
   "source": [
    "def buyuk_sayi_dondur(a,b):\n",
    "    if a>b :\n",
    "        return a\n",
    "    elif b>a :\n",
    "        return b"
   ]
  },
  {
   "cell_type": "code",
   "execution_count": 30,
   "id": "c9fe96df-e21e-4350-bb53-3ee08bc6db6e",
   "metadata": {},
   "outputs": [
    {
     "data": {
      "text/plain": [
       "10"
      ]
     },
     "execution_count": 30,
     "metadata": {},
     "output_type": "execute_result"
    }
   ],
   "source": [
    "buyuk_sayi_dondur(5,10)"
   ]
  },
  {
   "cell_type": "code",
   "execution_count": 44,
   "id": "aba7eb46-4f5a-4b8b-8654-e2fe8c8e9f36",
   "metadata": {},
   "outputs": [],
   "source": [
    "def metin_yazdir(a,b):\n",
    "    buyuk_sayi= buyuk_sayi_dondur(a,b)\n",
    "    sablon_metin= '{} sayı daha büyüktür.'.format( buyuk_sayi)\n",
    "    print(sablon_metin)\n",
    "    "
   ]
  },
  {
   "cell_type": "code",
   "execution_count": 46,
   "id": "cb680318-5c95-4a81-8556-18e0294aa330",
   "metadata": {},
   "outputs": [
    {
     "name": "stdout",
     "output_type": "stream",
     "text": [
      "10 sayı daha büyüktür.\n"
     ]
    }
   ],
   "source": [
    "metin_yazdir(5,10)"
   ]
  },
  {
   "cell_type": "code",
   "execution_count": 56,
   "id": "7f9c5418-1848-462e-ac45-989a4583037c",
   "metadata": {},
   "outputs": [],
   "source": [
    "def isim_soyisim_ayirma(isim_soyisim):\n",
    "    isim=isim_soyisim.split()[0]\n",
    "    soyisim= isim_soyisim.split()[1]\n",
    "    return isim,soyisim\n",
    "    "
   ]
  },
  {
   "cell_type": "code",
   "execution_count": 58,
   "id": "69ff9d06-6c9c-451a-bff2-8c73e34bcdf6",
   "metadata": {},
   "outputs": [
    {
     "data": {
      "text/plain": [
       "('Beyza', 'Gündoğdu')"
      ]
     },
     "execution_count": 58,
     "metadata": {},
     "output_type": "execute_result"
    }
   ],
   "source": [
    "isim_soyisim_ayirma(\"Beyza Gündoğdu\")"
   ]
  },
  {
   "cell_type": "code",
   "execution_count": 64,
   "id": "c184dd93-be83-4690-b05a-f55a0162af33",
   "metadata": {},
   "outputs": [
    {
     "name": "stdout",
     "output_type": "stream",
     "text": [
      "Beyza\n",
      "Gündoğdu\n"
     ]
    }
   ],
   "source": [
    "a,b= isim_soyisim_ayirma(\"Beyza Gündoğdu\")\n",
    "print(a)\n",
    "print(b)"
   ]
  },
  {
   "cell_type": "code",
   "execution_count": 66,
   "id": "6be77662-340a-4622-80c6-1783fceaf0d2",
   "metadata": {},
   "outputs": [],
   "source": [
    "def isim_soyisim_birlestir(isim, soyisim):\n",
    "    return \" \".join([isim, soyisim])"
   ]
  },
  {
   "cell_type": "code",
   "execution_count": 68,
   "id": "44a3bf65-749e-4985-a795-4872e2e6d420",
   "metadata": {},
   "outputs": [
    {
     "data": {
      "text/plain": [
       "'Beyza Gündoğdu'"
      ]
     },
     "execution_count": 68,
     "metadata": {},
     "output_type": "execute_result"
    }
   ],
   "source": [
    "isim_soyisim_birlestir( \"Beyza\", \"Gündoğdu\")"
   ]
  },
  {
   "cell_type": "code",
   "execution_count": 70,
   "id": "5ac8ce78-6d2d-45a1-a9ef-e52d29b6c6d4",
   "metadata": {},
   "outputs": [],
   "source": [
    "def isim_soyisim_birlestir(*args):\n",
    "    return \" \".join(args)"
   ]
  },
  {
   "cell_type": "code",
   "execution_count": 72,
   "id": "3a965259-519c-417f-adc3-342d83ededef",
   "metadata": {},
   "outputs": [
    {
     "data": {
      "text/plain": [
       "'İlkin Deniz Gündoğdu'"
      ]
     },
     "execution_count": 72,
     "metadata": {},
     "output_type": "execute_result"
    }
   ],
   "source": [
    "isim_soyisim_birlestir(\"İlkin\", \"Deniz\", \"Gündoğdu\")"
   ]
  },
  {
   "cell_type": "code",
   "execution_count": 84,
   "id": "b1f2fcc7-7be6-408c-9484-e1a1397a05e6",
   "metadata": {},
   "outputs": [],
   "source": [
    "def gobek_adi_yazdir(**kwargs):\n",
    "    if 'gobekadi' in kwargs:\n",
    "        print (kwargs['gobekadi'])\n",
    "    else:\n",
    "        print(\"Gobek adi yok.\")"
   ]
  },
  {
   "cell_type": "code",
   "execution_count": 86,
   "id": "f96c88a4-a3ca-4536-840e-71c9aa3da7b3",
   "metadata": {},
   "outputs": [
    {
     "name": "stdout",
     "output_type": "stream",
     "text": [
      "Deniz\n"
     ]
    }
   ],
   "source": [
    "gobek_adi_yazdir(\n",
    "    adi= \"İlkin\", gobekadi=\"Deniz\", soyadi=\"Gündoğdu\")"
   ]
  },
  {
   "cell_type": "code",
   "execution_count": null,
   "id": "e622bfee-0ae4-494f-a65c-481118f11176",
   "metadata": {},
   "outputs": [],
   "source": []
  }
 ],
 "metadata": {
  "kernelspec": {
   "display_name": "Python [conda env:base] *",
   "language": "python",
   "name": "conda-base-py"
  },
  "language_info": {
   "codemirror_mode": {
    "name": "ipython",
    "version": 3
   },
   "file_extension": ".py",
   "mimetype": "text/x-python",
   "name": "python",
   "nbconvert_exporter": "python",
   "pygments_lexer": "ipython3",
   "version": "3.12.7"
  }
 },
 "nbformat": 4,
 "nbformat_minor": 5
}
