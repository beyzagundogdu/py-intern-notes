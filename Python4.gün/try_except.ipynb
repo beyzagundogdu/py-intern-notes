{
 "cells": [
  {
   "cell_type": "code",
   "execution_count": 9,
   "id": "4063d555-a629-4ec5-b513-c1918dc66548",
   "metadata": {},
   "outputs": [],
   "source": [
    "def tam_sayiya_cevir(): \n",
    "    girdi= input(\"Bir ondalık sayı giriniz: \")\n",
    "    print(\"Yuvarlama işleminin sonucu: {}\".format(round(float(girdi)))) #type hatası aldığımız için float tipine döndürdük\n",
    "    "
   ]
  },
  {
   "cell_type": "code",
   "execution_count": 11,
   "id": "41eba9f0-7934-4220-b952-52b9bdd7bcac",
   "metadata": {},
   "outputs": [
    {
     "name": "stdin",
     "output_type": "stream",
     "text": [
      "Bir ondalık sayı giriniz:  1.7\n"
     ]
    },
    {
     "name": "stdout",
     "output_type": "stream",
     "text": [
      "Yuvarlama işleminin sonucu: 2\n"
     ]
    }
   ],
   "source": [
    "tam_sayiya_cevir()"
   ]
  },
  {
   "cell_type": "code",
   "execution_count": 13,
   "id": "c4e6aa00-e11d-465f-8ade-a99a63f05ef2",
   "metadata": {},
   "outputs": [],
   "source": [
    "def tam_sayiya_cevir():\n",
    "    girdi= input(\"Bir ondalık sayı giriniz:\")\n",
    "    try:\n",
    "        girdi= float(girdi)\n",
    "        print (\"Yuvarlama işleminin sonucu: {}\".format(round(girdi)))\n",
    "    except:\n",
    "        print(\"{} girdisi ondalık tipe çevrilemiyor\".format(girdi))"
   ]
  },
  {
   "cell_type": "code",
   "execution_count": 15,
   "id": "dafcddae-f0de-4f72-a6f4-c51138579a5f",
   "metadata": {},
   "outputs": [
    {
     "name": "stdin",
     "output_type": "stream",
     "text": [
      "Bir ondalık sayı giriniz: g\n"
     ]
    },
    {
     "name": "stdout",
     "output_type": "stream",
     "text": [
      "g girdisi ondalık tipe çevrilemiyor\n"
     ]
    }
   ],
   "source": [
    "tam_sayiya_cevir()"
   ]
  },
  {
   "cell_type": "code",
   "execution_count": 17,
   "id": "287ae93a-d7e2-46e3-a663-33e08b478f38",
   "metadata": {},
   "outputs": [],
   "source": [
    "def tam_sayiya_cevir():\n",
    "    girdi= input(\"Bir ondalık sayı giriniz:\")\n",
    "    status= ' '\n",
    "    try:\n",
    "        girdi= float(girdi)\n",
    "        print (\"Yuvarlama işleminin sonucu: {}\".format(round(girdi)))\n",
    "        status='başarılı'\n",
    "    except:\n",
    "        print(\"{} girdisi ondalık tipe çevrilemiyor\".format(girdi))\n",
    "        status='başarısız'\n",
    "    finally:\n",
    "        print('Tam sayıya çevirme işlemi {} olarak tamamlandı.'.format(status))\n"
   ]
  },
  {
   "cell_type": "code",
   "execution_count": 19,
   "id": "c115df5d-9973-4b0f-a383-638ee0439724",
   "metadata": {},
   "outputs": [
    {
     "name": "stdin",
     "output_type": "stream",
     "text": [
      "Bir ondalık sayı giriniz: nb\n"
     ]
    },
    {
     "name": "stdout",
     "output_type": "stream",
     "text": [
      "nb girdisi ondalık tipe çevrilemiyor\n",
      "Tam sayıya çevirme işlemi başarısız olarak tamamlandı.\n"
     ]
    }
   ],
   "source": [
    "tam_sayiya_cevir()"
   ]
  },
  {
   "cell_type": "code",
   "execution_count": 21,
   "id": "e0bcc21e-2efb-44a4-bcd9-ffb546a3c252",
   "metadata": {},
   "outputs": [
    {
     "name": "stdin",
     "output_type": "stream",
     "text": [
      "Bir ondalık sayı giriniz: k\n"
     ]
    },
    {
     "name": "stdout",
     "output_type": "stream",
     "text": [
      "k girdisi ondalık tipe çevrilemiyor\n",
      "Tam sayıya çevirme işlemi başarısız olarak tamamlandı.\n"
     ]
    }
   ],
   "source": [
    "tam_sayiya_cevir()"
   ]
  },
  {
   "cell_type": "code",
   "execution_count": 29,
   "id": "ea982cf0-2e10-4b8b-b27a-f4af6fc7debd",
   "metadata": {},
   "outputs": [],
   "source": [
    "def tam_sayiya_cevir_dongu():\n",
    "    while True:\n",
    "        girdi= input(\"Bir ondalık sayı giriniz:\")\n",
    "        try:\n",
    "            girdi= float(girdi)\n",
    "            print (\"Yuvarlama işleminin sonucu: {}\".format(round(girdi)))\n",
    "            break\n",
    "        except:\n",
    "             print(\"{} girdisi ondalık tipe çevrilemiyor\".format(girdi))\n",
    "             pass\n",
    "   "
   ]
  },
  {
   "cell_type": "code",
   "execution_count": 31,
   "id": "e08e4519-ab94-4915-94c0-6d2a6060f1c4",
   "metadata": {},
   "outputs": [
    {
     "name": "stdin",
     "output_type": "stream",
     "text": [
      "Bir ondalık sayı giriniz: f\n"
     ]
    },
    {
     "name": "stdout",
     "output_type": "stream",
     "text": [
      "f girdisi ondalık tipe çevrilemiyor\n"
     ]
    },
    {
     "name": "stdin",
     "output_type": "stream",
     "text": [
      "Bir ondalık sayı giriniz: 5.4\n"
     ]
    },
    {
     "name": "stdout",
     "output_type": "stream",
     "text": [
      "Yuvarlama işleminin sonucu: 5\n"
     ]
    }
   ],
   "source": [
    "tam_sayiya_cevir_dongu()"
   ]
  },
  {
   "cell_type": "code",
   "execution_count": 37,
   "id": "3d3b230c-44b3-449b-b355-88b935ed1dae",
   "metadata": {},
   "outputs": [
    {
     "name": "stdout",
     "output_type": "stream",
     "text": [
      "girilen verilerle işlem yapılamıyor\n"
     ]
    }
   ],
   "source": [
    "try:\n",
    "    5 +'a'\n",
    "except TypeError:\n",
    "    print('girilen verilerle işlem yapılamıyor')"
   ]
  },
  {
   "cell_type": "code",
   "execution_count": 43,
   "id": "d50e4b78-183f-47cd-8289-38e43918b72c",
   "metadata": {},
   "outputs": [
    {
     "name": "stdout",
     "output_type": "stream",
     "text": [
      "Kod düzgün çalışmıyor\n"
     ]
    }
   ],
   "source": [
    "try:\n",
    "    5 +'a'\n",
    "except IndexError:\n",
    "    print('girilen verilerle işlem yapılamıyor')\n",
    "except:\n",
    "    print('Kod düzgün çalışmıyor')"
   ]
  },
  {
   "cell_type": "code",
   "execution_count": 45,
   "id": "957ffe11-d65d-4461-88d3-0a5f5fa2206f",
   "metadata": {},
   "outputs": [
    {
     "name": "stdout",
     "output_type": "stream",
     "text": [
      "Indexlemeye çalıştığınız eleman listenin dışında\n"
     ]
    }
   ],
   "source": [
    "liste=[]\n",
    "try:\n",
    "   liste[-1]\n",
    "except IndexError:\n",
    "    print('Indexlemeye çalıştığınız eleman listenin dışında')\n",
    "except:\n",
    "    print('Kod düzgün çalışmıyor')"
   ]
  },
  {
   "cell_type": "code",
   "execution_count": 51,
   "id": "eaccc876-2e52-476d-b5d8-693b3d8dc4b4",
   "metadata": {},
   "outputs": [
    {
     "name": "stdout",
     "output_type": "stream",
     "text": [
      "aranan dictionaryde verilen anahtar değeri mevcut değil.\n"
     ]
    }
   ],
   "source": [
    "vatandas={\n",
    "    'ad':'Beyza',\n",
    "    'tc_no':123456\n",
    "}\n",
    "try:\n",
    "   vatandas['pass_no']\n",
    "except IndexError:\n",
    "    print('Indexlemeye çalıştığınız eleman listenin dışında')\n",
    "except KeyError:\n",
    "    print('aranan dictionaryde verilen anahtar değeri mevcut değil.')\n",
    "except:\n",
    "    print('Kod düzgün çalışmıyor')"
   ]
  },
  {
   "cell_type": "code",
   "execution_count": null,
   "id": "4301dc66-fe53-405c-9e5a-97503292d0a1",
   "metadata": {},
   "outputs": [],
   "source": []
  }
 ],
 "metadata": {
  "kernelspec": {
   "display_name": "Python [conda env:base] *",
   "language": "python",
   "name": "conda-base-py"
  },
  "language_info": {
   "codemirror_mode": {
    "name": "ipython",
    "version": 3
   },
   "file_extension": ".py",
   "mimetype": "text/x-python",
   "name": "python",
   "nbconvert_exporter": "python",
   "pygments_lexer": "ipython3",
   "version": "3.12.7"
  }
 },
 "nbformat": 4,
 "nbformat_minor": 5
}
