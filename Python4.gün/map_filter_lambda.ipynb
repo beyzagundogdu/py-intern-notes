{
 "cells": [
  {
   "cell_type": "code",
   "execution_count": 9,
   "id": "1faa55d8-242a-438b-8c27-d74456a80fe1",
   "metadata": {},
   "outputs": [],
   "source": [
    "def karesini_al (x):\n",
    "    return x**2"
   ]
  },
  {
   "cell_type": "code",
   "execution_count": 11,
   "id": "803f1549-fbd8-4670-b220-15146cca4c5c",
   "metadata": {},
   "outputs": [
    {
     "data": {
      "text/plain": [
       "16"
      ]
     },
     "execution_count": 11,
     "metadata": {},
     "output_type": "execute_result"
    }
   ],
   "source": [
    "karesini_al(4)"
   ]
  },
  {
   "cell_type": "code",
   "execution_count": 15,
   "id": "b6a3571b-cb84-43ec-b8e5-4d709236d5fc",
   "metadata": {},
   "outputs": [
    {
     "data": {
      "text/plain": [
       "[1, 2, 3, 4, 5]"
      ]
     },
     "execution_count": 15,
     "metadata": {},
     "output_type": "execute_result"
    }
   ],
   "source": [
    "sayilar= [*range(1,6)]\n",
    "sayilar"
   ]
  },
  {
   "cell_type": "code",
   "execution_count": 19,
   "id": "a899df96-8084-494b-916b-c41aecc20ba4",
   "metadata": {},
   "outputs": [
    {
     "name": "stdout",
     "output_type": "stream",
     "text": [
      "[1, 2, 3, 4, 5]\n",
      "[1, 4, 9, 16, 25]\n"
     ]
    }
   ],
   "source": [
    "sayilar= [*range(1,6)]\n",
    "print(sayilar)\n",
    "for index in range (len(sayilar)): #sayilar listesindeki her bir elemanın karesini almak ve sonucu tekrar aynı indeks numarasına yerleştirmek.\n",
    "    sayilar[index]= karesini_al(sayilar[index])\n",
    "print(sayilar)    "
   ]
  },
  {
   "cell_type": "code",
   "execution_count": 25,
   "id": "6fd72f85-476e-4ad4-87cf-f88de4ecce3b",
   "metadata": {},
   "outputs": [
    {
     "data": {
      "text/plain": [
       "[1, 4, 9, 16, 25]"
      ]
     },
     "execution_count": 25,
     "metadata": {},
     "output_type": "execute_result"
    }
   ],
   "source": [
    "sayilar=[*range(1,6)]\n",
    "[*map(karesini_al,sayilar)] #sayilar listesindeki her bir elemanı karesini al fonksiyonuna gönderir"
   ]
  },
  {
   "cell_type": "code",
   "execution_count": 27,
   "id": "14e32ed4-23a5-4002-bd6f-7813b31bed4e",
   "metadata": {},
   "outputs": [],
   "source": [
    "def cift_sayilari_filtrele(x):\n",
    "    if x%2==0:\n",
    "        return x"
   ]
  },
  {
   "cell_type": "code",
   "execution_count": 35,
   "id": "ae8e677e-68bc-45f2-ae97-e1f73727faed",
   "metadata": {},
   "outputs": [],
   "source": [
    "cift_sayilari_filtrele(3)"
   ]
  },
  {
   "cell_type": "code",
   "execution_count": 41,
   "id": "4058632a-5331-460e-96f6-756863325e28",
   "metadata": {},
   "outputs": [],
   "source": [
    "def cift_sayilari_filtrele(x):\n",
    "     return x if x%2==0 else None"
   ]
  },
  {
   "cell_type": "code",
   "execution_count": 43,
   "id": "ab3427ee-29f0-4ec4-9d03-da6e817f48b1",
   "metadata": {},
   "outputs": [
    {
     "data": {
      "text/plain": [
       "6"
      ]
     },
     "execution_count": 43,
     "metadata": {},
     "output_type": "execute_result"
    }
   ],
   "source": [
    "cift_sayilari_filtrele(6)"
   ]
  },
  {
   "cell_type": "code",
   "execution_count": 45,
   "id": "2ca81054-4bc1-44fa-97f0-1bdb4a4a432b",
   "metadata": {},
   "outputs": [
    {
     "data": {
      "text/plain": [
       "[2, 4]"
      ]
     },
     "execution_count": 45,
     "metadata": {},
     "output_type": "execute_result"
    }
   ],
   "source": [
    "sayilar=[*range(1,6)]\n",
    "[*filter(cift_sayilari_filtrele,sayilar)]"
   ]
  },
  {
   "cell_type": "code",
   "execution_count": 47,
   "id": "65acb510-f137-487c-8f87-671e096593bd",
   "metadata": {},
   "outputs": [
    {
     "data": {
      "text/plain": [
       "[1, 4, 9, 16, 25]"
      ]
     },
     "execution_count": 47,
     "metadata": {},
     "output_type": "execute_result"
    }
   ],
   "source": [
    "sayilar= [*range(1,6)]\n",
    "[*map(lambda x: x**2,sayilar)]"
   ]
  },
  {
   "cell_type": "code",
   "execution_count": 53,
   "id": "08a437d2-1298-4030-9954-b90201e08a44",
   "metadata": {},
   "outputs": [
    {
     "data": {
      "text/plain": [
       "[2, 4]"
      ]
     },
     "execution_count": 53,
     "metadata": {},
     "output_type": "execute_result"
    }
   ],
   "source": [
    "sayilar=[*range(1,6)]\n",
    "[*filter(lambda x: x if x%2==0 else None, sayilar)]"
   ]
  },
  {
   "cell_type": "code",
   "execution_count": null,
   "id": "bf572d6a-9b3f-44b9-b065-3ffbf6862819",
   "metadata": {},
   "outputs": [],
   "source": []
  }
 ],
 "metadata": {
  "kernelspec": {
   "display_name": "Python [conda env:base] *",
   "language": "python",
   "name": "conda-base-py"
  },
  "language_info": {
   "codemirror_mode": {
    "name": "ipython",
    "version": 3
   },
   "file_extension": ".py",
   "mimetype": "text/x-python",
   "name": "python",
   "nbconvert_exporter": "python",
   "pygments_lexer": "ipython3",
   "version": "3.12.7"
  }
 },
 "nbformat": 4,
 "nbformat_minor": 5
}
