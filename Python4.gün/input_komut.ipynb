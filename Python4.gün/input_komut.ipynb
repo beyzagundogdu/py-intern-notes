{
 "cells": [
  {
   "cell_type": "code",
   "execution_count": 3,
   "id": "ac76f988-dea8-47d4-bdd7-4ff4c6e52e6f",
   "metadata": {},
   "outputs": [
    {
     "name": "stdin",
     "output_type": "stream",
     "text": [
      "Bir sayı girin 21\n"
     ]
    },
    {
     "data": {
      "text/plain": [
       "str"
      ]
     },
     "execution_count": 3,
     "metadata": {},
     "output_type": "execute_result"
    }
   ],
   "source": [
    "girdi= input (\"Bir sayı girin\")\n",
    "type(girdi)"
   ]
  },
  {
   "cell_type": "code",
   "execution_count": 7,
   "id": "980df248-ff15-4693-93ce-24a5853f6d6d",
   "metadata": {},
   "outputs": [
    {
     "name": "stdin",
     "output_type": "stream",
     "text": [
      "Bir sayı girin 54\n"
     ]
    },
    {
     "data": {
      "text/plain": [
       "int"
      ]
     },
     "execution_count": 7,
     "metadata": {},
     "output_type": "execute_result"
    }
   ],
   "source": [
    "girdi= input (\"Bir sayı girin\")\n",
    "type(int(girdi))"
   ]
  },
  {
   "cell_type": "code",
   "execution_count": 26,
   "id": "09387963-37af-4fc1-ac89-345e0c015b57",
   "metadata": {},
   "outputs": [],
   "source": [
    "def uygulama ():\n",
    "    girdi= input (\"Bir sayı girin:\")\n",
    "    islem= input (\"Sizce veri tek mi çiift mi\")\n",
    "    if islem== 'cift':\n",
    "        if int(girdi)%2==0:\n",
    "            return'Evet {} bu sayısı çift sayıdır'.format(girdi)\n",
    "        else: \n",
    "            return'Hayır {} sayısı bir çift sayı değildir'.format(girdi)\n",
    "    elif islem=='tek':\n",
    "         if int(girdi)%2==1:\n",
    "             return'Evet {} sayısı bir tek sayıdır'.formta(girdi)\n",
    "         else:\n",
    "             return 'Hayır {} bir tek sayı değildir'.format(girdi)"
   ]
  },
  {
   "cell_type": "code",
   "execution_count": 24,
   "id": "cd0f433c-0b35-4230-9bcc-2df6dac22ddb",
   "metadata": {},
   "outputs": [
    {
     "name": "stdin",
     "output_type": "stream",
     "text": [
      "Bir sayı girin: 4\n",
      "Sizce veri tek mi çiift mi tek\n"
     ]
    },
    {
     "data": {
      "text/plain": [
       "'Hayır bu bir tek sayı değildir'"
      ]
     },
     "execution_count": 24,
     "metadata": {},
     "output_type": "execute_result"
    }
   ],
   "source": [
    "uygulama()"
   ]
  },
  {
   "cell_type": "code",
   "execution_count": 30,
   "id": "1098f2dd-0ab4-4506-8997-726f4ca00780",
   "metadata": {},
   "outputs": [
    {
     "name": "stdin",
     "output_type": "stream",
     "text": [
      "Bir sayı girin: 5\n",
      "Sizce veri tek mi çiift mi cift\n"
     ]
    },
    {
     "data": {
      "text/plain": [
       "'Hayır 5 sayısı bir çift sayı değildir'"
      ]
     },
     "execution_count": 30,
     "metadata": {},
     "output_type": "execute_result"
    }
   ],
   "source": [
    "uygulama()"
   ]
  },
  {
   "cell_type": "code",
   "execution_count": 43,
   "id": "59a1815d-0a4e-4358-b4fc-6bfead82ff4a",
   "metadata": {},
   "outputs": [],
   "source": [
    "def sayi_girdisi_kontrol():\n",
    "    girdi= input('Bir sayı giriniz:')\n",
    "    if girdi.isdigit():\n",
    "        print('Tebrikleri! Sayı tipi değer girdiniz.')\n",
    "    else:\n",
    "        print('Üzügünüm, bu bir sayı tipi değişken değildir')"
   ]
  },
  {
   "cell_type": "code",
   "execution_count": 45,
   "id": "98068967-be49-4056-8f55-9e02b5993689",
   "metadata": {},
   "outputs": [
    {
     "name": "stdin",
     "output_type": "stream",
     "text": [
      "Bir sayı giriniz: 5\n"
     ]
    },
    {
     "name": "stdout",
     "output_type": "stream",
     "text": [
      "Tebrikleri! Sayı tipi değer girdiniz.\n"
     ]
    }
   ],
   "source": [
    "sayi_girdisi_kontrol()"
   ]
  },
  {
   "cell_type": "code",
   "execution_count": 47,
   "id": "274829fa-ad8a-4df0-9f9f-9fabe63595fd",
   "metadata": {},
   "outputs": [],
   "source": [
    "def sayi_girdisi_kontrol_dongu():\n",
    "    girdi= input(\"Bir sayı giriniz: \")\n",
    "    while not girdi.isdigit(): #not + hayır true'ya döner \n",
    "        print('Üzügünüm, bu bir sayı tipi değişken değildir')\n",
    "        girdi= input(\"Bir sayı giriniz: \")\n",
    "    else:\n",
    "        print('Tebrikleri! Sayı tipi değer girdiniz.')\n",
    "        "
   ]
  },
  {
   "cell_type": "code",
   "execution_count": 49,
   "id": "d2a3308c-5e19-4564-b14f-dbeb8cfe13ac",
   "metadata": {},
   "outputs": [
    {
     "name": "stdin",
     "output_type": "stream",
     "text": [
      "Bir sayı giriniz:  c\n"
     ]
    },
    {
     "name": "stdout",
     "output_type": "stream",
     "text": [
      "Üzügünüm, bu bir sayı tipi değişken değildir\n"
     ]
    },
    {
     "name": "stdin",
     "output_type": "stream",
     "text": [
      "Bir sayı giriniz:  s\n"
     ]
    },
    {
     "name": "stdout",
     "output_type": "stream",
     "text": [
      "Üzügünüm, bu bir sayı tipi değişken değildir\n"
     ]
    },
    {
     "name": "stdin",
     "output_type": "stream",
     "text": [
      "Bir sayı giriniz:  5\n"
     ]
    },
    {
     "name": "stdout",
     "output_type": "stream",
     "text": [
      "Tebrikleri! Sayı tipi değer girdiniz.\n"
     ]
    }
   ],
   "source": [
    "sayi_girdisi_kontrol_dongu()\n"
   ]
  },
  {
   "cell_type": "code",
   "execution_count": 51,
   "id": "70e57a09-5189-414d-b270-2e0f4e38b2be",
   "metadata": {},
   "outputs": [],
   "source": [
    "def eposta_kontrol():\n",
    "    girdi= input(\"Geçerli bri eposta giriniz\")\n",
    "    while not(('.'in girdi) and ('@' in girdi)):\n",
    "        print(\"Üzgünüm, geçersiz eposta adresi\")\n",
    "        girdi= input(\"Geçerli bri eposta giriniz\")\n",
    "    else:\n",
    "        print(\"Tebrikler,geçerli eposta adresi\")"
   ]
  },
  {
   "cell_type": "code",
   "execution_count": 53,
   "id": "e4220a16-1973-4348-b4d2-fdb72f2b08b6",
   "metadata": {},
   "outputs": [
    {
     "name": "stdin",
     "output_type": "stream",
     "text": [
      "Geçerli bri eposta giriniz bdkshv\n"
     ]
    },
    {
     "name": "stdout",
     "output_type": "stream",
     "text": [
      "Üzgünüm, geçersiz eposta adresi\n"
     ]
    },
    {
     "name": "stdin",
     "output_type": "stream",
     "text": [
      "Geçerli bri eposta giriniz beyzagundogdu@gmail.com\n"
     ]
    },
    {
     "name": "stdout",
     "output_type": "stream",
     "text": [
      "Tebrikler,geçerli eposta adresi\n"
     ]
    }
   ],
   "source": [
    "eposta_kontrol()"
   ]
  },
  {
   "cell_type": "code",
   "execution_count": null,
   "id": "cf65a4fa-0b5f-4bf4-abfd-fcea79ded985",
   "metadata": {},
   "outputs": [],
   "source": []
  }
 ],
 "metadata": {
  "kernelspec": {
   "display_name": "Python [conda env:base] *",
   "language": "python",
   "name": "conda-base-py"
  },
  "language_info": {
   "codemirror_mode": {
    "name": "ipython",
    "version": 3
   },
   "file_extension": ".py",
   "mimetype": "text/x-python",
   "name": "python",
   "nbconvert_exporter": "python",
   "pygments_lexer": "ipython3",
   "version": "3.12.7"
  }
 },
 "nbformat": 4,
 "nbformat_minor": 5
}
