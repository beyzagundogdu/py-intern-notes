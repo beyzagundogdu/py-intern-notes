{
 "cells": [
  {
   "cell_type": "code",
   "execution_count": 1,
   "id": "4c528cfc-2756-42ec-bbe9-4baa79416ca4",
   "metadata": {},
   "outputs": [],
   "source": [
    "def ustel_sayilar_v1(x,y):\n",
    "    return x**y"
   ]
  },
  {
   "cell_type": "code",
   "execution_count": 5,
   "id": "49916540-f796-433b-bd80-a702eaad6bac",
   "metadata": {},
   "outputs": [
    {
     "data": {
      "text/plain": [
       "9"
      ]
     },
     "execution_count": 5,
     "metadata": {},
     "output_type": "execute_result"
    }
   ],
   "source": [
    "ustel_sayilar_v1(3,2)"
   ]
  },
  {
   "cell_type": "code",
   "execution_count": 39,
   "id": "5d1fe88c-3a40-4b33-9250-fbdca3b51213",
   "metadata": {},
   "outputs": [],
   "source": [
    "def ustel_sayilar_v2(a,b):#4^3=4*4*4\n",
    "    sonuc=1\n",
    "    if b<1:\n",
    "        return sonuc\n",
    "    else:\n",
    "        for kuvvet in range(1,b+1):\n",
    "            sonuc=sonuc*a\n",
    "        return sonuc\n",
    "        "
   ]
  },
  {
   "cell_type": "code",
   "execution_count": 41,
   "id": "a27d6ce9-c2e9-4f93-bae5-758abfdfc1f0",
   "metadata": {},
   "outputs": [
    {
     "data": {
      "text/plain": [
       "9"
      ]
     },
     "execution_count": 41,
     "metadata": {},
     "output_type": "execute_result"
    }
   ],
   "source": [
    "ustel_sayilar_v2(3,2)"
   ]
  },
  {
   "cell_type": "code",
   "execution_count": 63,
   "id": "40f5a6a7-911f-4260-a8ab-da9c12ea6990",
   "metadata": {},
   "outputs": [],
   "source": [
    "def listedeki_en_buyuk_iki_sayi(liste):\n",
    "    \n",
    "    liste.sort()\n",
    "    return liste[-1], liste[-2]\n"
   ]
  },
  {
   "cell_type": "code",
   "execution_count": 67,
   "id": "5eaf36b7-c3f6-4173-9335-e3114d03ef8f",
   "metadata": {},
   "outputs": [
    {
     "data": {
      "text/plain": [
       "(45, 6)"
      ]
     },
     "execution_count": 67,
     "metadata": {},
     "output_type": "execute_result"
    }
   ],
   "source": [
    "liste=[1,6,5,2,45]\n",
    "listedeki_en_buyuk_iki_sayi(liste)"
   ]
  },
  {
   "cell_type": "code",
   "execution_count": 72,
   "id": "fa0c6899-7481-4882-bc56-1c68f8adbf05",
   "metadata": {},
   "outputs": [],
   "source": [
    "def str_filtrele(liste):\n",
    "    sonuc=[]\n",
    "    for x in liste:\n",
    "        if type(x)==str:\n",
    "            sonuc.append(x)\n",
    "        else:\n",
    "            pass\n",
    "    return sonuc        "
   ]
  },
  {
   "cell_type": "code",
   "execution_count": 78,
   "id": "1a60a23e-94cb-48d7-b2e6-eef063d81966",
   "metadata": {},
   "outputs": [
    {
     "data": {
      "text/plain": [
       "['a']"
      ]
     },
     "execution_count": 78,
     "metadata": {},
     "output_type": "execute_result"
    }
   ],
   "source": [
    "str_filtrele(['a',True,45])"
   ]
  },
  {
   "cell_type": "code",
   "execution_count": 90,
   "id": "c6c23c5b-0d04-478e-9a82-c998c4aca500",
   "metadata": {},
   "outputs": [
    {
     "data": {
      "text/plain": [
       "['b', 'e', 'y', 'z']"
      ]
     },
     "execution_count": 90,
     "metadata": {},
     "output_type": "execute_result"
    }
   ],
   "source": [
    "str_filtrele(['b','e','y','z',45,58,False])"
   ]
  },
  {
   "cell_type": "code",
   "execution_count": 95,
   "id": "3d7cbd26-8ed5-40fa-9004-e91adda20223",
   "metadata": {},
   "outputs": [],
   "source": [
    "def paradan_alti_sifir_at(liste):\n",
    "    sonuc=[]\n",
    "    for x in liste:\n",
    "        sonuc.append(x/1000000)\n",
    "    return sonuc   "
   ]
  },
  {
   "cell_type": "code",
   "execution_count": 97,
   "id": "870e81f8-f19f-42a9-8318-aafb6a76951f",
   "metadata": {},
   "outputs": [
    {
     "data": {
      "text/plain": [
       "[2.0, 6.0]"
      ]
     },
     "execution_count": 97,
     "metadata": {},
     "output_type": "execute_result"
    }
   ],
   "source": [
    "paradan_alti_sifir_at([2000000,6000000])"
   ]
  },
  {
   "cell_type": "code",
   "execution_count": 133,
   "id": "c9e5cc5f-d11b-44a5-8fd2-ea3ba78f5185",
   "metadata": {},
   "outputs": [],
   "source": [
    "def paradan_alti_sifir_at_v2(liste):\n",
    "    return[*map(lambda x: int(x/1000000) ,liste)] "
   ]
  },
  {
   "cell_type": "code",
   "execution_count": 135,
   "id": "632a237b-bf8e-4f64-b62b-06bf3a842da5",
   "metadata": {},
   "outputs": [
    {
     "data": {
      "text/plain": [
       "[1, 9, 5]"
      ]
     },
     "execution_count": 135,
     "metadata": {},
     "output_type": "execute_result"
    }
   ],
   "source": [
    "paradan_alti_sifir_at_v2([1000000,9000000,5000000])"
   ]
  },
  {
   "cell_type": "code",
   "execution_count": 149,
   "id": "df79d58a-b2f4-4168-9038-02e1f2a1129a",
   "metadata": {},
   "outputs": [],
   "source": [
    "def zaman_verisi_al():\n",
    "    saat= input(\"Saat giriniz:\")\n",
    "    if saat.isdigit():\n",
    "        saat= int(saat)\n",
    "        if ((saat>=0) and (saat<24)):\n",
    "            dakika= input(\"Dakika giriniz:\")\n",
    "            if dakika.isdigit():\n",
    "                dakika= int(dakika)\n",
    "                if((dakika>=0) and( dakika<60)):\n",
    "                    return 'Giriş yapılan zaman {}:{}'.format(saat,dakika)\n",
    "                else:\n",
    "                    return'Girilen dakika aralığı yanlış'\n",
    "            else:\n",
    "                return 'Girilen dakika yanlış veri tipinde'\n",
    "        else:\n",
    "            return'Girilen saat yanlış'\n",
    "              "
   ]
  },
  {
   "cell_type": "code",
   "execution_count": 141,
   "id": "991dc644-cfd6-401e-a90c-0ba4e7fd3ab9",
   "metadata": {},
   "outputs": [
    {
     "name": "stdin",
     "output_type": "stream",
     "text": [
      "Saat giriniz: 25\n"
     ]
    }
   ],
   "source": [
    "zaman_verisi_al()"
   ]
  },
  {
   "cell_type": "code",
   "execution_count": 145,
   "id": "6d3f4ed5-0c09-43cb-9ce2-4aee90276aee",
   "metadata": {},
   "outputs": [
    {
     "name": "stdin",
     "output_type": "stream",
     "text": [
      "Saat giriniz: 25\n"
     ]
    },
    {
     "data": {
      "text/plain": [
       "'Girilen saat yanlış'"
      ]
     },
     "execution_count": 145,
     "metadata": {},
     "output_type": "execute_result"
    }
   ],
   "source": [
    "zaman_verisi_al()"
   ]
  },
  {
   "cell_type": "code",
   "execution_count": 147,
   "id": "c9eb46d1-8f0f-4465-b208-a2cae36a8dd1",
   "metadata": {},
   "outputs": [
    {
     "name": "stdin",
     "output_type": "stream",
     "text": [
      "Saat giriniz: 5\n",
      "Dakika giriniz: 65\n"
     ]
    },
    {
     "data": {
      "text/plain": [
       "'Girilen dakika aralığı yanlış'"
      ]
     },
     "execution_count": 147,
     "metadata": {},
     "output_type": "execute_result"
    }
   ],
   "source": [
    "zaman_verisi_al()"
   ]
  },
  {
   "cell_type": "code",
   "execution_count": 151,
   "id": "8e7daac7-d040-40b2-a48c-31b8c44ffebd",
   "metadata": {},
   "outputs": [
    {
     "name": "stdin",
     "output_type": "stream",
     "text": [
      "Saat giriniz: 5\n",
      "Dakika giriniz: ö\n"
     ]
    },
    {
     "data": {
      "text/plain": [
       "'Girilen dakika yanlış veri tipinde'"
      ]
     },
     "execution_count": 151,
     "metadata": {},
     "output_type": "execute_result"
    }
   ],
   "source": [
    "zaman_verisi_al()"
   ]
  },
  {
   "cell_type": "code",
   "execution_count": null,
   "id": "5d351308-0cf0-4643-aa89-b8684428daaa",
   "metadata": {},
   "outputs": [],
   "source": []
  }
 ],
 "metadata": {
  "kernelspec": {
   "display_name": "Python [conda env:base] *",
   "language": "python",
   "name": "conda-base-py"
  },
  "language_info": {
   "codemirror_mode": {
    "name": "ipython",
    "version": 3
   },
   "file_extension": ".py",
   "mimetype": "text/x-python",
   "name": "python",
   "nbconvert_exporter": "python",
   "pygments_lexer": "ipython3",
   "version": "3.12.7"
  }
 },
 "nbformat": 4,
 "nbformat_minor": 5
}
