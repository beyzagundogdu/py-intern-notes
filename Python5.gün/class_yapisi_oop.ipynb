{
 "cells": [
  {
   "cell_type": "code",
   "execution_count": 1,
   "id": "2db7cef9-b9d0-4abd-84a1-ab83b79a0830",
   "metadata": {},
   "outputs": [],
   "source": [
    "class Ucus():\n",
    "    havayolu= \"THY\""
   ]
  },
  {
   "cell_type": "code",
   "execution_count": 3,
   "id": "24cded4c-681f-4c2e-9e20-4c7308e9bf53",
   "metadata": {},
   "outputs": [],
   "source": [
    "ucus1= Ucus()"
   ]
  },
  {
   "cell_type": "code",
   "execution_count": 7,
   "id": "6b2f5f87-5aa1-49f1-8f04-a805052084fa",
   "metadata": {},
   "outputs": [
    {
     "data": {
      "text/plain": [
       "'THY'"
      ]
     },
     "execution_count": 7,
     "metadata": {},
     "output_type": "execute_result"
    }
   ],
   "source": [
    "ucus1.havayolu"
   ]
  },
  {
   "cell_type": "code",
   "execution_count": 11,
   "id": "085b39d4-3ca9-492e-b6a5-a6ab1a733a67",
   "metadata": {},
   "outputs": [],
   "source": [
    "class Ucus():\n",
    "    havayolu= \"THY\"\n",
    "    def __init__(self, kod, kalkis,varis,sure,kapasite,yolcu):\n",
    "        self.kod=kod\n",
    "        self.kalkis=kalkis\n",
    "        self.varis=varis\n",
    "        self.sure=sure\n",
    "        self.kapasiite=kapasite\n",
    "        self.yolcu=yolcu"
   ]
  },
  {
   "cell_type": "code",
   "execution_count": 13,
   "id": "b348d65b-2db0-4039-94b8-38070b338c84",
   "metadata": {},
   "outputs": [
    {
     "ename": "TypeError",
     "evalue": "Ucus.__init__() missing 6 required positional arguments: 'kod', 'kalkis', 'varis', 'sure', 'kapasite', and 'yolcu'",
     "output_type": "error",
     "traceback": [
      "\u001b[1;31m---------------------------------------------------------------------------\u001b[0m",
      "\u001b[1;31mTypeError\u001b[0m                                 Traceback (most recent call last)",
      "Cell \u001b[1;32mIn[13], line 1\u001b[0m\n\u001b[1;32m----> 1\u001b[0m ucus2\u001b[38;5;241m=\u001b[39m Ucus()\n",
      "\u001b[1;31mTypeError\u001b[0m: Ucus.__init__() missing 6 required positional arguments: 'kod', 'kalkis', 'varis', 'sure', 'kapasite', and 'yolcu'"
     ]
    }
   ],
   "source": [
    "ucus2= Ucus()"
   ]
  },
  {
   "cell_type": "code",
   "execution_count": 42,
   "id": "8028e4ec-3594-477a-9e56-2d93228f8939",
   "metadata": {},
   "outputs": [],
   "source": [
    "ucus2= Ucus('Tk123','IST','ANK',60,300,50)"
   ]
  },
  {
   "cell_type": "code",
   "execution_count": 25,
   "id": "bdc3b030-8779-491e-a923-e2290a065008",
   "metadata": {},
   "outputs": [
    {
     "data": {
      "text/plain": [
       "'ANK'"
      ]
     },
     "execution_count": 25,
     "metadata": {},
     "output_type": "execute_result"
    }
   ],
   "source": [
    "ucus2.varis"
   ]
  },
  {
   "cell_type": "code",
   "execution_count": 27,
   "id": "aa94deac-a592-498e-87c6-1fb2eb15cda8",
   "metadata": {},
   "outputs": [
    {
     "data": {
      "text/plain": [
       "50"
      ]
     },
     "execution_count": 27,
     "metadata": {},
     "output_type": "execute_result"
    }
   ],
   "source": [
    "ucus2.yolcu"
   ]
  },
  {
   "cell_type": "code",
   "execution_count": 58,
   "id": "7fb82dd3-b456-4aac-bd61-70fbef090a0e",
   "metadata": {},
   "outputs": [],
   "source": [
    "class Ucus():\n",
    "    havayolu= \"THY\"\n",
    "    def __init__(self, kod, kalkis,varis,sure,kapasite,yolcu):\n",
    "        self.kod=kod\n",
    "        self.kalkis=kalkis\n",
    "        self.varis=varis\n",
    "        self.sure=sure\n",
    "        self.kapasite=kapasite\n",
    "        self.yolcu=yolcu\n",
    "\n",
    "    def anons_yap(self):\n",
    "        return \"{} sefer sayili {}-{} ucusumuz {} dakika surecektir.\".format(self.kod,self.kalkis,self.varis,self.sure)\n",
    "          "
   ]
  },
  {
   "cell_type": "code",
   "execution_count": 60,
   "id": "6ca642e2-40f5-4b70-b701-f6873b927409",
   "metadata": {},
   "outputs": [
    {
     "name": "stdout",
     "output_type": "stream",
     "text": [
      "<built-in method format of str object at 0x000001FD7BD2BC90>\n"
     ]
    }
   ],
   "source": [
    "print(ucus2.anons_yap())"
   ]
  },
  {
   "cell_type": "code",
   "execution_count": 62,
   "id": "f1543a19-06e3-42b4-882d-b03d06b75e8c",
   "metadata": {},
   "outputs": [
    {
     "name": "stdout",
     "output_type": "stream",
     "text": [
      "TK123 sefer sayili Istanbul-Ankara ucusumuz 70 dakika surecektir.\n"
     ]
    }
   ],
   "source": [
    "class Ucus():\n",
    "    havayolu = \"THY\"\n",
    "    \n",
    "    def __init__(self, kod, kalkis, varis, sure, kapasite, yolcu):\n",
    "        self.kod = kod\n",
    "        self.kalkis = kalkis\n",
    "        self.varis = varis\n",
    "        self.sure = sure\n",
    "        self.kapasite = kapasite\n",
    "        self.yolcu = yolcu\n",
    "\n",
    "    def anons_yap(self):\n",
    "        return \"{} sefer sayili {}-{} ucusumuz {} dakika surecektir.\".format(self.kod, self.kalkis, self.varis, self.sure)\n",
    "\n",
    "# Ucus sınıfından bir örnek oluştur ve anons yap\n",
    "ucus2 = Ucus(\"TK123\", \"Istanbul\", \"Ankara\", 70, 180, 120)\n",
    "print(ucus2.anons_yap())\n"
   ]
  },
  {
   "cell_type": "code",
   "execution_count": null,
   "id": "2e2accff-95ba-46f7-a52a-b652e3fd028a",
   "metadata": {},
   "outputs": [],
   "source": []
  }
 ],
 "metadata": {
  "kernelspec": {
   "display_name": "Python [conda env:base] *",
   "language": "python",
   "name": "conda-base-py"
  },
  "language_info": {
   "codemirror_mode": {
    "name": "ipython",
    "version": 3
   },
   "file_extension": ".py",
   "mimetype": "text/x-python",
   "name": "python",
   "nbconvert_exporter": "python",
   "pygments_lexer": "ipython3",
   "version": "3.12.7"
  }
 },
 "nbformat": 4,
 "nbformat_minor": 5
}
